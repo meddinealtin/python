{
 "cells": [
  {
   "cell_type": "code",
   "execution_count": 5,
   "metadata": {},
   "outputs": [
    {
     "name": "stdout",
     "output_type": "stream",
     "text": [
      "bism\n"
     ]
    }
   ],
   "source": [
    "print(\"bism\")"
   ]
  },
  {
   "cell_type": "markdown",
   "metadata": {},
   "source": [
    "# print return\n",
    "eğer değeri tekrar kullanmak istiyorsak print yerine return kullanıyoruz. print show ettikten sonra içini boşaltır"
   ]
  },
  {
   "cell_type": "code",
   "execution_count": 6,
   "metadata": {},
   "outputs": [
    {
     "name": "stdout",
     "output_type": "stream",
     "text": [
      "hello\n"
     ]
    }
   ],
   "source": [
    "print(\"hello\")"
   ]
  },
  {
   "cell_type": "code",
   "execution_count": 7,
   "metadata": {},
   "outputs": [
    {
     "name": "stdout",
     "output_type": "stream",
     "text": [
      "hello\n"
     ]
    }
   ],
   "source": [
    "a=print(\"hello\")"
   ]
  },
  {
   "cell_type": "code",
   "execution_count": 9,
   "metadata": {},
   "outputs": [
    {
     "data": {
      "text/plain": [
       "NoneType"
      ]
     },
     "execution_count": 9,
     "metadata": {},
     "output_type": "execute_result"
    }
   ],
   "source": [
    "type(a)"
   ]
  },
  {
   "cell_type": "code",
   "execution_count": 10,
   "metadata": {},
   "outputs": [
    {
     "name": "stdout",
     "output_type": "stream",
     "text": [
      "\n"
     ]
    },
    {
     "data": {
      "text/plain": [
       "NoneType"
      ]
     },
     "execution_count": 10,
     "metadata": {},
     "output_type": "execute_result"
    }
   ],
   "source": [
    "type(print()) #ilk olarak print boş çıktı verdi sonra type verdi"
   ]
  },
  {
   "cell_type": "code",
   "execution_count": 13,
   "metadata": {},
   "outputs": [],
   "source": [
    "def calculator_1(num1,opr,num2):\n",
    "\n",
    "    if opr == \"+\":\n",
    "        print(num1 + num2)\n",
    "    elif opr == \"-\":\n",
    "        print(num1 - num2)\n",
    "    elif opr == \"x\":\n",
    "        print(num1 * num2)\n",
    "    elif opr == \"/\":\n",
    "        print(num1 / num2)\n",
    "    else:\n",
    "        print(\"Hatalı operatör girişi.\")\n",
    "    "
   ]
  },
  {
   "cell_type": "code",
   "execution_count": null,
   "metadata": {},
   "outputs": [],
   "source": []
  },
  {
   "cell_type": "code",
   "execution_count": null,
   "metadata": {},
   "outputs": [],
   "source": [
    "def calculator_2(num1,opr,num2):\n",
    "\n",
    "    if opr == \"+\":\n",
    "        return num1 + num2\n",
    "    elif opr == \"-\":\n",
    "        return num1 - num2\n",
    "    elif opr == \"x\":\n",
    "        return num1 * num2\n",
    "    elif opr == \"/\":\n",
    "        return num1 / num2\n",
    "    else:\n",
    "        return \"Hatalı operatör girişi.\""
   ]
  },
  {
   "cell_type": "code",
   "execution_count": 17,
   "metadata": {},
   "outputs": [],
   "source": [
    "def my_len_1(x):\n",
    "\n",
    "    \"\"\"len fonksiyonunu beğenmediğim için kendi fonksiyonumu yazıyorum. Bu fonksiyon bir iterable ın uzunluğunu verir\"\"\"\n",
    "\n",
    "    sayaç = 0\n",
    "\n",
    "    for i in x:\n",
    "        sayaç += 1\n",
    "\n",
    "    print(sayaç)"
   ]
  },
  {
   "cell_type": "code",
   "execution_count": 15,
   "metadata": {},
   "outputs": [],
   "source": [
    "liste_1=[1,2,3,4,5]"
   ]
  },
  {
   "cell_type": "code",
   "execution_count": 18,
   "metadata": {},
   "outputs": [
    {
     "name": "stdout",
     "output_type": "stream",
     "text": [
      "5\n"
     ]
    }
   ],
   "source": [
    "my_len_1(liste_1)"
   ]
  },
  {
   "cell_type": "code",
   "execution_count": 19,
   "metadata": {},
   "outputs": [
    {
     "name": "stdout",
     "output_type": "stream",
     "text": [
      "5\n"
     ]
    }
   ],
   "source": [
    "d=my_len_1(liste_1)"
   ]
  },
  {
   "cell_type": "code",
   "execution_count": 25,
   "metadata": {},
   "outputs": [
    {
     "ename": "TypeError",
     "evalue": "'NoneType' object cannot be interpreted as an integer",
     "output_type": "error",
     "traceback": [
      "\u001b[1;31m---------------------------------------------------------------------------\u001b[0m",
      "\u001b[1;31mTypeError\u001b[0m                                 Traceback (most recent call last)",
      "Cell \u001b[1;32mIn[25], line 1\u001b[0m\n\u001b[1;32m----> 1\u001b[0m \u001b[38;5;28mlist\u001b[39m(\u001b[38;5;28;43mrange\u001b[39;49m\u001b[43m(\u001b[49m\u001b[38;5;241;43m1\u001b[39;49m\u001b[43m,\u001b[49m\u001b[43md\u001b[49m\u001b[43m)\u001b[49m) \u001b[38;5;66;03m#d printle kullanıldğı için artık içi boş tekrar böyle kullanmak istiyosak return ile kullanıyoruz\u001b[39;00m\n",
      "\u001b[1;31mTypeError\u001b[0m: 'NoneType' object cannot be interpreted as an integer"
     ]
    }
   ],
   "source": [
    "list(range(1,d)) #d printle kullanıldğı için artık içi boş tekrar böyle kullanmak istiyosak return ile kullanıyoruz"
   ]
  },
  {
   "cell_type": "code",
   "execution_count": 21,
   "metadata": {},
   "outputs": [],
   "source": [
    "def my_len_2(x):\n",
    "\n",
    "    \"\"\"len fonksiyonunu beğenmediğim için kendi fonksiyonumu yazıyorum. Bu fonksiyon bir iterable ın uzunluğunu verir\"\"\"\n",
    "\n",
    "    sayaç = 0\n",
    "\n",
    "    for i in x:\n",
    "        sayaç += 1\n",
    "\n",
    "    return sayaç"
   ]
  },
  {
   "cell_type": "code",
   "execution_count": 26,
   "metadata": {},
   "outputs": [],
   "source": [
    "e=my_len_2(liste_1)"
   ]
  },
  {
   "cell_type": "code",
   "execution_count": 27,
   "metadata": {},
   "outputs": [
    {
     "data": {
      "text/plain": [
       "[0, 1, 2, 3, 4]"
      ]
     },
     "execution_count": 27,
     "metadata": {},
     "output_type": "execute_result"
    }
   ],
   "source": [
    "list(range(0,e))"
   ]
  },
  {
   "cell_type": "markdown",
   "metadata": {},
   "source": [
    "1-iki kenarını bildiğimz dik üçgenin hipo bulan fonk\n",
    "2-üçgenin çevresini bul"
   ]
  },
  {
   "cell_type": "code",
   "execution_count": 42,
   "metadata": {},
   "outputs": [],
   "source": [
    "def hypo1(x,y):\n",
    "    print((x**2+y**2)**0.5)"
   ]
  },
  {
   "cell_type": "code",
   "execution_count": 43,
   "metadata": {},
   "outputs": [
    {
     "name": "stdout",
     "output_type": "stream",
     "text": [
      "5.0\n"
     ]
    }
   ],
   "source": [
    "hypo1(3,4)"
   ]
  },
  {
   "cell_type": "code",
   "execution_count": 44,
   "metadata": {},
   "outputs": [
    {
     "name": "stdout",
     "output_type": "stream",
     "text": [
      "5.0\n"
     ]
    },
    {
     "ename": "TypeError",
     "evalue": "unsupported operand type(s) for +: 'int' and 'NoneType'",
     "output_type": "error",
     "traceback": [
      "\u001b[1;31m---------------------------------------------------------------------------\u001b[0m",
      "\u001b[1;31mTypeError\u001b[0m                                 Traceback (most recent call last)",
      "Cell \u001b[1;32mIn[44], line 1\u001b[0m\n\u001b[1;32m----> 1\u001b[0m çevre \u001b[38;5;241m=\u001b[39m \u001b[38;5;241;43m3\u001b[39;49m\u001b[43m \u001b[49m\u001b[38;5;241;43m+\u001b[39;49m\u001b[43m \u001b[49m\u001b[38;5;241;43m4\u001b[39;49m\u001b[38;5;241;43m+\u001b[39;49m\u001b[43m \u001b[49m\u001b[43mhypo1\u001b[49m\u001b[43m(\u001b[49m\u001b[38;5;241;43m3\u001b[39;49m\u001b[43m,\u001b[49m\u001b[38;5;241;43m4\u001b[39;49m\u001b[43m)\u001b[49m \u001b[38;5;66;03m#hypo1 printle kullaıldığı için hypo1 ile hata\u001b[39;00m\n",
      "\u001b[1;31mTypeError\u001b[0m: unsupported operand type(s) for +: 'int' and 'NoneType'"
     ]
    }
   ],
   "source": [
    "çevre = 3 + 4+ hypo1(3,4) #hypo1 printle kullaıldığı için hypo1 ile  hata verdi. hypo1 in değeri 5.0 verdi gerisi yok"
   ]
  },
  {
   "cell_type": "code",
   "execution_count": 35,
   "metadata": {},
   "outputs": [],
   "source": [
    "def hypo2(x,y):\n",
    "    return((x**2+y**2)**0.5)"
   ]
  },
  {
   "cell_type": "code",
   "execution_count": 36,
   "metadata": {},
   "outputs": [
    {
     "data": {
      "text/plain": [
       "5.0"
      ]
     },
     "execution_count": 36,
     "metadata": {},
     "output_type": "execute_result"
    }
   ],
   "source": [
    "hypo2(3,4)"
   ]
  },
  {
   "cell_type": "code",
   "execution_count": 41,
   "metadata": {},
   "outputs": [
    {
     "data": {
      "text/plain": [
       "12.0"
      ]
     },
     "execution_count": 41,
     "metadata": {},
     "output_type": "execute_result"
    }
   ],
   "source": [
    "çevre=3+4+hypo2(3,4)\n",
    "çevre"
   ]
  },
  {
   "cell_type": "markdown",
   "metadata": {},
   "source": [
    "tekleri çiftleri ayırıcı"
   ]
  },
  {
   "cell_type": "code",
   "execution_count": 45,
   "metadata": {},
   "outputs": [
    {
     "name": "stdout",
     "output_type": "stream",
     "text": [
      "[1, 15, 5, 89, 45, 71, 45, 95, 61]\n",
      "[2, 36, 62, 52, 30, 56, 48]\n"
     ]
    }
   ],
   "source": [
    "sayılar_listesi = [1,15,2,36,5,89,45,62,52,71,30,56,45,95,61,48]\n",
    "odds=[]\n",
    "evens=[]\n",
    "\n",
    "for i in sayılar_listesi:\n",
    "    if i % 2 == 0:\n",
    "        evens.append(i)\n",
    "    else:\n",
    "        odds.append(i)\n",
    "print(odds)\n",
    "print(evens)"
   ]
  },
  {
   "cell_type": "code",
   "execution_count": 49,
   "metadata": {},
   "outputs": [],
   "source": [
    "def tek_çift_ayırıcı(liste,istek): #istek tek mi çift mi \n",
    "    \"\"\"bu fonksiyon sizin isteğinize göre tekler çiftler diye ayırır\"\"\"\n",
    "    odds=[]\n",
    "    evens=[]\n",
    "\n",
    "    for i in liste :\n",
    "        if i % 2 == 0:   #eğer bir sayı ç   \n",
    "            evens.append(i)\n",
    "        else:\n",
    "            odds.append(i)\n",
    "    if istek ==\"tek\":\n",
    "        return odds\n",
    "    elif istek==\"çift\":\n",
    "        return evens\n",
    "    else:\n",
    "        print(\"hatalı istek\")\n"
   ]
  },
  {
   "cell_type": "code",
   "execution_count": 47,
   "metadata": {},
   "outputs": [
    {
     "data": {
      "text/plain": [
       "[1, 15, 5, 89, 45, 71, 45, 95, 61]"
      ]
     },
     "execution_count": 47,
     "metadata": {},
     "output_type": "execute_result"
    }
   ],
   "source": [
    "tek_çift_ayırıcı(sayılar_listesi,\"tek\")"
   ]
  },
  {
   "cell_type": "code",
   "execution_count": 48,
   "metadata": {},
   "outputs": [
    {
     "data": {
      "text/plain": [
       "[2, 36, 62, 52, 30, 56, 48]"
      ]
     },
     "execution_count": 48,
     "metadata": {},
     "output_type": "execute_result"
    }
   ],
   "source": [
    "tek_çift_ayırıcı(sayılar_listesi,\"çift\")"
   ]
  },
  {
   "cell_type": "code",
   "execution_count": 60,
   "metadata": {},
   "outputs": [],
   "source": [
    "def adın_kadar_kazan(isim):\n",
    "    \n",
    "    \"\"\"bu fonk ismin içindeki sesli harfleri bulur\"\"\"\n",
    "\n",
    "    counter = 0\n",
    "    for i in isim.lower( ): #tüm karakterleri küçültür\n",
    "        if i in \"aeıioöuü\":\n",
    "            counter +=1\n",
    "    print(counter)\n",
    "\n"
   ]
  },
  {
   "cell_type": "code",
   "execution_count": 61,
   "metadata": {},
   "outputs": [
    {
     "name": "stdout",
     "output_type": "stream",
     "text": [
      "3\n"
     ]
    },
    {
     "ename": "TypeError",
     "evalue": "unsupported operand type(s) for *: 'NoneType' and 'int'",
     "output_type": "error",
     "traceback": [
      "\u001b[1;31m---------------------------------------------------------------------------\u001b[0m",
      "\u001b[1;31mTypeError\u001b[0m                                 Traceback (most recent call last)",
      "Cell \u001b[1;32mIn[61], line 1\u001b[0m\n\u001b[1;32m----> 1\u001b[0m \u001b[43madın_kadar_kazan\u001b[49m\u001b[43m(\u001b[49m\u001b[38;5;124;43m\"\u001b[39;49m\u001b[38;5;124;43mmedine\u001b[39;49m\u001b[38;5;124;43m\"\u001b[39;49m\u001b[43m)\u001b[49m\u001b[38;5;241;43m*\u001b[39;49m\u001b[38;5;241;43m1000\u001b[39;49m\n",
      "\u001b[1;31mTypeError\u001b[0m: unsupported operand type(s) for *: 'NoneType' and 'int'"
     ]
    }
   ],
   "source": [
    "adın_kadar_kazan(\"medine\")*1000 #3 tane sesli harf olduğunu yazdı fakat devamı yok.çünkü print kullandk"
   ]
  },
  {
   "cell_type": "code",
   "execution_count": 58,
   "metadata": {},
   "outputs": [],
   "source": [
    "def adın_kadar_kazan2(isim):\n",
    "    \n",
    "    \"\"\"bu fonk ismin içindeki sesli harfleri bulur\"\"\"\n",
    "\n",
    "    counter = 0\n",
    "    for i in isim.lower( ): #tüm karakterleri küçültür\n",
    "        if i in \"aeıioöuü\":\n",
    "            counter +=1\n",
    "    return(counter)"
   ]
  },
  {
   "cell_type": "code",
   "execution_count": 59,
   "metadata": {},
   "outputs": [
    {
     "data": {
      "text/plain": [
       "3000"
      ]
     },
     "execution_count": 59,
     "metadata": {},
     "output_type": "execute_result"
    }
   ],
   "source": [
    "adın_kadar_kazan2(\"medine\") *1000"
   ]
  },
  {
   "cell_type": "code",
   "execution_count": 62,
   "metadata": {},
   "outputs": [
    {
     "name": "stdout",
     "output_type": "stream",
     "text": [
      "153 sayısı armstrong bir sayıdır\n"
     ]
    }
   ],
   "source": [
    "sayı = input(\"bir sayı girin\")\n",
    "\n",
    "uzunluk = len(sayı)\n",
    "\n",
    "toplam = 0\n",
    "\n",
    "for i in sayı:\n",
    "\n",
    "    toplam += int(i) ** uzunluk\n",
    "\n",
    "if toplam == int(sayı):\n",
    "    print(f\"{sayı} sayısı armstrong bir sayıdır\")\n",
    "else:\n",
    "    print(f\"{sayı} sayısı armstrong sayı değildir\")\n",
    "\n",
    "\n",
    "\n",
    "\n",
    "\n",
    "\n",
    "\n"
   ]
  },
  {
   "cell_type": "code",
   "execution_count": 63,
   "metadata": {},
   "outputs": [
    {
     "data": {
      "text/plain": [
       "153"
      ]
     },
     "execution_count": 63,
     "metadata": {},
     "output_type": "execute_result"
    }
   ],
   "source": [
    "sum([int(i)**uzunluk for i in sayı])"
   ]
  },
  {
   "cell_type": "code",
   "execution_count": 75,
   "metadata": {},
   "outputs": [],
   "source": [
    "def find_armstrong(x):\n",
    "    \n",
    "    x = str(x)\n",
    "\n",
    "    uzunluk = len(x)\n",
    "\n",
    "    if int(x) == sum([int(i) ** uzunluk for i in x]):\n",
    "        print(f\"{x} sayısı armstrong bir sayıdır\")\n",
    "    else:\n",
    "        print(f\"{x} sayısı armstrong sayı değildir\")"
   ]
  },
  {
   "cell_type": "code",
   "execution_count": 76,
   "metadata": {},
   "outputs": [
    {
     "name": "stdout",
     "output_type": "stream",
     "text": [
      "153 sayısı armstrong bir sayıdır\n"
     ]
    }
   ],
   "source": [
    "find_armstrong(153)"
   ]
  },
  {
   "cell_type": "markdown",
   "metadata": {},
   "source": [
    "armstrong sayıyı kullanmaya devam edeceksek"
   ]
  },
  {
   "cell_type": "code",
   "execution_count": 77,
   "metadata": {},
   "outputs": [],
   "source": [
    "def find_armstrong2(x):\n",
    "    \n",
    "    x = str(x)\n",
    "\n",
    "    uzunluk = len(x)\n",
    "\n",
    "    if int(x) == sum([int(i) ** uzunluk for i in x]):\n",
    "        return int(x)"
   ]
  },
  {
   "cell_type": "code",
   "execution_count": 78,
   "metadata": {},
   "outputs": [
    {
     "data": {
      "text/plain": [
       "153"
      ]
     },
     "execution_count": 78,
     "metadata": {},
     "output_type": "execute_result"
    }
   ],
   "source": [
    "find_armstrong2(153)"
   ]
  },
  {
   "cell_type": "code",
   "execution_count": 80,
   "metadata": {},
   "outputs": [
    {
     "data": {
      "text/plain": [
       "[1, 2, 3, 4, 5, 6, 7, 8, 9, 153, 370, 371, 407, 1634, 8208, 9474]"
      ]
     },
     "execution_count": 80,
     "metadata": {},
     "output_type": "execute_result"
    }
   ],
   "source": [
    "result = []\n",
    "\n",
    "for i in range(1,10001):\n",
    "    if find_armstrong2(i) != None: #none eşit değildir\n",
    "        result.append(i)\n",
    "result"
   ]
  },
  {
   "cell_type": "code",
   "execution_count": 82,
   "metadata": {},
   "outputs": [
    {
     "data": {
      "text/plain": [
       "[1, 2, 3, 4, 5, 6, 7, 8, 9, 153, 370, 371, 407, 1634, 8208, 9474]"
      ]
     },
     "execution_count": 82,
     "metadata": {},
     "output_type": "execute_result"
    }
   ],
   "source": [
    "[i for i in range (1,10001) if find_armstrong2(i) != None]"
   ]
  },
  {
   "cell_type": "markdown",
   "metadata": {},
   "source": [
    "###### prime number asal sayı bulan fonk. \n",
    "###### 1den 1000e kadar olanlar"
   ]
  },
  {
   "cell_type": "code",
   "execution_count": null,
   "metadata": {},
   "outputs": [],
   "source": []
  }
 ],
 "metadata": {
  "kernelspec": {
   "display_name": "Python 3",
   "language": "python",
   "name": "python3"
  },
  "language_info": {
   "codemirror_mode": {
    "name": "ipython",
    "version": 3
   },
   "file_extension": ".py",
   "mimetype": "text/x-python",
   "name": "python",
   "nbconvert_exporter": "python",
   "pygments_lexer": "ipython3",
   "version": "3.12.1"
  }
 },
 "nbformat": 4,
 "nbformat_minor": 2
}
