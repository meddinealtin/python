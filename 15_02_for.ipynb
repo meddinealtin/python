{
 "cells": [
  {
   "cell_type": "code",
   "execution_count": 1,
   "metadata": {},
   "outputs": [
    {
     "name": "stdout",
     "output_type": "stream",
     "text": [
      "bism\n"
     ]
    }
   ],
   "source": [
    "print(\"bism\")"
   ]
  },
  {
   "cell_type": "markdown",
   "metadata": {},
   "source": [
    "liste_1 = [4,5,6,9,85,23,65,47,32,91] listenin en küçük ve en büyük elemanını min ve max fpnksiyonu kullanmadan bulun. sort fonk da kullanmayın"
   ]
  },
  {
   "cell_type": "code",
   "execution_count": 2,
   "metadata": {},
   "outputs": [
    {
     "name": "stdout",
     "output_type": "stream",
     "text": [
      "4\n"
     ]
    }
   ],
   "source": [
    "liste_1 = [4,5,6,9,85,23,65,47,32,91]\n",
    "x=0\n",
    "min_sayı = liste_1[0]\n",
    "while x < len(liste_1):\n",
    "    if min_sayı > liste_1[x]:\n",
    "        min_sayı=liste_1[x]\n",
    "\n",
    "\n",
    "\n",
    "\n",
    "    x+=1\n",
    "print(min_sayı)\n"
   ]
  },
  {
   "cell_type": "code",
   "execution_count": 5,
   "metadata": {},
   "outputs": [
    {
     "name": "stdout",
     "output_type": "stream",
     "text": [
      "91\n"
     ]
    }
   ],
   "source": [
    "liste_1 = [4,5,6,9,85,23,65,47,32,91]\n",
    "x=0\n",
    "max_sayı = liste_1[0]\n",
    "while x < len(liste_1):\n",
    "    if max_sayı < liste_1[x]:\n",
    "        max_sayı=liste_1[x]\n",
    "\n",
    "\n",
    "\n",
    "\n",
    "    x+=1\n",
    "print(max_sayı)"
   ]
  },
  {
   "cell_type": "code",
   "execution_count": 6,
   "metadata": {},
   "outputs": [
    {
     "name": "stdout",
     "output_type": "stream",
     "text": [
      "91\n",
      "4\n"
     ]
    }
   ],
   "source": [
    "liste_1 = [4,5,6,9,85,23,65,47,32,91]\n",
    "\n",
    "x=0\n",
    "\n",
    "max_sayı = liste_1[0]\n",
    "min_sayı = liste_1[0]\n",
    "\n",
    "while x < len(liste_1):\n",
    "\n",
    "    if max_sayı < liste_1[x]:\n",
    "        max_sayı=liste_1[x]\n",
    "\n",
    "    if min_sayı > liste_1[x]:\n",
    "        min_sayı=liste_1[x]\n",
    "\n",
    "    x+=1\n",
    "print(max_sayı)\n",
    "print(min_sayı)"
   ]
  },
  {
   "cell_type": "markdown",
   "metadata": {},
   "source": [
    "# for"
   ]
  },
  {
   "cell_type": "code",
   "execution_count": 7,
   "metadata": {},
   "outputs": [
    {
     "name": "stdout",
     "output_type": "stream",
     "text": [
      "t\n",
      "e\n",
      "c\n",
      "h\n",
      "p\n",
      "r\n",
      "o\n"
     ]
    }
   ],
   "source": [
    "for i in \"techpro\":#for döngüsü iterable lar ile çalışır #i ddeğişkendir\n",
    "    print(i)"
   ]
  },
  {
   "cell_type": "code",
   "execution_count": 9,
   "metadata": {},
   "outputs": [
    {
     "name": "stdout",
     "output_type": "stream",
     "text": [
      "t - tt\n",
      "e - ee\n",
      "c - cc\n",
      "h - hh\n",
      "p - pp\n",
      "r - rr\n",
      "o - oo\n"
     ]
    }
   ],
   "source": [
    "for i in \"techpro\":#for döngüsü iterable lar ile çalışır int ile çalışmaz #i değişkendir\n",
    "    print(i,\"-\",i*2) #i her defasında bir harfi aldı ve aralara - koydu ve 2 ile çarptı"
   ]
  },
  {
   "cell_type": "code",
   "execution_count": 10,
   "metadata": {},
   "outputs": [
    {
     "name": "stdout",
     "output_type": "stream",
     "text": [
      "t - tt\n",
      "e - ee\n",
      "c - cc\n",
      "h - hh\n",
      "p - pp\n",
      "r - rr\n",
      "o - oo\n"
     ]
    }
   ],
   "source": [
    "for k in \"techpro\":\n",
    "    print(k,\"-\",k*2)"
   ]
  },
  {
   "cell_type": "code",
   "execution_count": 11,
   "metadata": {},
   "outputs": [
    {
     "data": {
      "text/plain": [
       "'o'"
      ]
     },
     "execution_count": 11,
     "metadata": {},
     "output_type": "execute_result"
    }
   ],
   "source": [
    "k # değişkene verilen son değer \"o\" "
   ]
  },
  {
   "cell_type": "code",
   "execution_count": 12,
   "metadata": {},
   "outputs": [
    {
     "name": "stdout",
     "output_type": "stream",
     "text": [
      "1\n",
      "4\n",
      "9\n",
      "16\n",
      "25\n"
     ]
    }
   ],
   "source": [
    "c"
   ]
  },
  {
   "cell_type": "code",
   "execution_count": 13,
   "metadata": {},
   "outputs": [
    {
     "data": {
      "text/plain": [
       "True"
      ]
     },
     "execution_count": 13,
     "metadata": {},
     "output_type": "execute_result"
    }
   ],
   "source": [
    "\"e\" in \"hello\" #\"e\" hellonun içinde var mı demek"
   ]
  },
  {
   "cell_type": "code",
   "execution_count": 15,
   "metadata": {},
   "outputs": [
    {
     "name": "stdout",
     "output_type": "stream",
     "text": [
      "1\n",
      "4\n",
      "9\n",
      "16\n",
      "25\n"
     ]
    }
   ],
   "source": [
    "liste_2=[1,2,3,4,5]\n",
    "x=0\n",
    "while x<len(liste_2):\n",
    "\n",
    "    print(liste_2[x]**2)\n",
    "    x+=1"
   ]
  },
  {
   "cell_type": "code",
   "execution_count": 19,
   "metadata": {},
   "outputs": [
    {
     "name": "stdout",
     "output_type": "stream",
     "text": [
      "1 sayısının karesi:1\n",
      "2 sayısının karesi:4\n",
      "3 sayısının karesi:9\n",
      "4 sayısının karesi:16\n",
      "5 sayısının karesi:25\n"
     ]
    }
   ],
   "source": [
    "\n",
    "for i in (1,2,3,4,5):\n",
    "    print(f\"{i} sayısının karesi:{i**2}\")"
   ]
  },
  {
   "cell_type": "code",
   "execution_count": 21,
   "metadata": {},
   "outputs": [
    {
     "name": "stdout",
     "output_type": "stream",
     "text": [
      "1 sayısının karesi:1---2 sayısının karesi:4---3 sayısının karesi:9---4 sayısının karesi:16---5 sayısının karesi:25---"
     ]
    }
   ],
   "source": [
    "for i in (1,2,3,4,5):\n",
    "    print(f\"{i} sayısının karesi:{i**2}\",end=\"---\")"
   ]
  },
  {
   "cell_type": "code",
   "execution_count": 20,
   "metadata": {},
   "outputs": [
    {
     "ename": "TypeError",
     "evalue": "'int' object is not iterable",
     "output_type": "error",
     "traceback": [
      "\u001b[1;31m---------------------------------------------------------------------------\u001b[0m",
      "\u001b[1;31mTypeError\u001b[0m                                 Traceback (most recent call last)",
      "Cell \u001b[1;32mIn[20], line 1\u001b[0m\n\u001b[1;32m----> 1\u001b[0m \u001b[38;5;28;43;01mfor\u001b[39;49;00m\u001b[43m \u001b[49m\u001b[43mi\u001b[49m\u001b[43m \u001b[49m\u001b[38;5;129;43;01min\u001b[39;49;00m\u001b[43m \u001b[49m\u001b[38;5;241;43m1453\u001b[39;49m\u001b[43m:\u001b[49m\n\u001b[0;32m      2\u001b[0m \u001b[43m    \u001b[49m\u001b[38;5;28;43mprint\u001b[39;49m\u001b[43m(\u001b[49m\u001b[43mi\u001b[49m\u001b[43m)\u001b[49m\n",
      "\u001b[1;31mTypeError\u001b[0m: 'int' object is not iterable"
     ]
    }
   ],
   "source": [
    "for i in 1453: #1453 int bu yüzden hata. int iterable değil.\n",
    "    print(i)"
   ]
  },
  {
   "cell_type": "code",
   "execution_count": 23,
   "metadata": {},
   "outputs": [],
   "source": [
    "isimler_listesi=[\"irem\",\"cihan\",\"bahar\",\"metehan\"]"
   ]
  },
  {
   "cell_type": "code",
   "execution_count": 25,
   "metadata": {},
   "outputs": [
    {
     "name": "stdout",
     "output_type": "stream",
     "text": [
      "Irem\n",
      "Cihan\n",
      "Bahar\n",
      "Metehan\n"
     ]
    }
   ],
   "source": [
    "for i in isimler_listesi:\n",
    "    print(i.capitalize())"
   ]
  },
  {
   "cell_type": "code",
   "execution_count": 36,
   "metadata": {},
   "outputs": [
    {
     "name": "stdout",
     "output_type": "stream",
     "text": [
      "1---4---9---16---25---"
     ]
    }
   ],
   "source": [
    "for i in (1,2,3,4,5):\n",
    "    print(i**2,end=\"---\")"
   ]
  },
  {
   "cell_type": "code",
   "execution_count": 30,
   "metadata": {},
   "outputs": [
    {
     "data": {
      "text/plain": [
       "'Techpro'"
      ]
     },
     "execution_count": 30,
     "metadata": {},
     "output_type": "execute_result"
    }
   ],
   "source": [
    "\"Techpro\""
   ]
  },
  {
   "cell_type": "code",
   "execution_count": 35,
   "metadata": {},
   "outputs": [
    {
     "name": "stdout",
     "output_type": "stream",
     "text": [
      "T-e-c-h-p-r-o-"
     ]
    }
   ],
   "source": [
    "for i in \"Techpro\":\n",
    "    print(i,end=\"-\")"
   ]
  },
  {
   "cell_type": "code",
   "execution_count": 40,
   "metadata": {},
   "outputs": [
    {
     "name": "stdout",
     "output_type": "stream",
     "text": [
      "t-e-c-h-p-r-o\n"
     ]
    }
   ],
   "source": [
    "empty_str=\"\"\n",
    "for i in \"techpro\":\n",
    "    empty_str+=i+\"-\"\n",
    "print(empty_str.rstrip(\"-\")) #sondaki \"-\" sildi"
   ]
  },
  {
   "cell_type": "code",
   "execution_count": 41,
   "metadata": {},
   "outputs": [
    {
     "data": {
      "text/plain": [
       "{'name': 'dilek', 'age': 26, 'job': 'data_sci'}"
      ]
     },
     "execution_count": 41,
     "metadata": {},
     "output_type": "execute_result"
    }
   ],
   "source": [
    "dict_1={\"name\":\"dilek\",\"age\":26,\"job\":\"data_sci\"}\n",
    "dict_1"
   ]
  },
  {
   "cell_type": "code",
   "execution_count": 42,
   "metadata": {},
   "outputs": [
    {
     "name": "stdout",
     "output_type": "stream",
     "text": [
      "name\n",
      "age\n",
      "job\n"
     ]
    }
   ],
   "source": [
    "for i in dict_1: # keylerine ulaştık\n",
    "    print(i)"
   ]
  },
  {
   "cell_type": "code",
   "execution_count": 43,
   "metadata": {},
   "outputs": [
    {
     "data": {
      "text/plain": [
       "dict_values(['dilek', 26, 'data_sci'])"
      ]
     },
     "execution_count": 43,
     "metadata": {},
     "output_type": "execute_result"
    }
   ],
   "source": [
    "dict_1.values()"
   ]
  },
  {
   "cell_type": "code",
   "execution_count": 45,
   "metadata": {},
   "outputs": [
    {
     "name": "stdout",
     "output_type": "stream",
     "text": [
      "('name', 'dilek')\n",
      "('age', 26)\n",
      "('job', 'data_sci')\n"
     ]
    }
   ],
   "source": [
    "for i in dict_1.items(): #ikililere ulaştık\n",
    "    print(i)"
   ]
  },
  {
   "cell_type": "code",
   "execution_count": 46,
   "metadata": {},
   "outputs": [
    {
     "name": "stdout",
     "output_type": "stream",
     "text": [
      "name dilek\n",
      "age 26\n",
      "job data_sci\n"
     ]
    }
   ],
   "source": [
    "for i,j in dict_1.items():\n",
    "    print(i,j)"
   ]
  },
  {
   "cell_type": "code",
   "execution_count": 47,
   "metadata": {},
   "outputs": [
    {
     "name": "stdout",
     "output_type": "stream",
     "text": [
      "name**dilek\n",
      "age**26\n",
      "job**data_sci\n"
     ]
    }
   ],
   "source": [
    "for i,j in dict_1.items():\n",
    "    print(i,j,sep=\"**\")"
   ]
  },
  {
   "cell_type": "code",
   "execution_count": 48,
   "metadata": {},
   "outputs": [
    {
     "name": "stdout",
     "output_type": "stream",
     "text": [
      "key:name,value:dilek,\n",
      "key:age,value:26,\n",
      "key:job,value:data_sci,\n"
     ]
    }
   ],
   "source": [
    "for i,j in dict_1.items():\n",
    "    print(f\"key:{i},value:{j},\")"
   ]
  },
  {
   "cell_type": "code",
   "execution_count": 49,
   "metadata": {},
   "outputs": [
    {
     "data": {
      "text/plain": [
       "{'name': 'dilek', 'age': 26, 'job': 'data_sci'}"
      ]
     },
     "execution_count": 49,
     "metadata": {},
     "output_type": "execute_result"
    }
   ],
   "source": [
    "dict_1"
   ]
  },
  {
   "cell_type": "code",
   "execution_count": 50,
   "metadata": {},
   "outputs": [],
   "source": [
    "dict_2={'name': 'dilek','surname':'yılmaz', 'age': 26, 'job': 'data_sci'}"
   ]
  },
  {
   "cell_type": "code",
   "execution_count": 53,
   "metadata": {},
   "outputs": [
    {
     "name": "stdout",
     "output_type": "stream",
     "text": [
      "key:name,value:dilek\n",
      "key:age,value:26\n",
      "key:job,value:data_sci\n"
     ]
    }
   ],
   "source": [
    "for i,j in dict_2.items():\n",
    "    print(f\"key:{i},value:{j}\")"
   ]
  },
  {
   "cell_type": "code",
   "execution_count": 55,
   "metadata": {},
   "outputs": [
    {
     "name": "stdout",
     "output_type": "stream",
     "text": [
      "key:name      ,value:dilek\n",
      "key:age       ,value:26\n",
      "key:job       ,value:data_sci\n"
     ]
    }
   ],
   "source": [
    "for i,j in dict_2.items():\n",
    "    print(f\"key:{i:<10},value:{j}\") #i<10 karakter açtı ve keyleri sola yasladı"
   ]
  },
  {
   "cell_type": "code",
   "execution_count": 57,
   "metadata": {},
   "outputs": [
    {
     "name": "stdout",
     "output_type": "stream",
     "text": [
      "key:      name,value:     dilek\n",
      "key:       age,value:        26\n",
      "key:       job,value:  data_sci\n"
     ]
    }
   ],
   "source": [
    "for i,j in dict_2.items():\n",
    "    print(f\"key:{i:>10},value:{j:>10}\") #i<10 karakter açtı ve key ve value ları sağa yasladı"
   ]
  },
  {
   "cell_type": "code",
   "execution_count": 59,
   "metadata": {},
   "outputs": [
    {
     "name": "stdout",
     "output_type": "stream",
     "text": [
      "key:   name   ,value:  dilek   \n",
      "key:   age    ,value:    26    \n",
      "key:   job    ,value: data_sci \n"
     ]
    }
   ],
   "source": [
    "for i,j in dict_2.items():\n",
    "    print(f\"key:{i:^10},value:{j:^10}\") #i^10 karakter açıp ortaladı"
   ]
  },
  {
   "cell_type": "code",
   "execution_count": 61,
   "metadata": {},
   "outputs": [
    {
     "ename": "TypeError",
     "evalue": "'bool' object is not iterable",
     "output_type": "error",
     "traceback": [
      "\u001b[1;31m---------------------------------------------------------------------------\u001b[0m",
      "\u001b[1;31mTypeError\u001b[0m                                 Traceback (most recent call last)",
      "Cell \u001b[1;32mIn[61], line 1\u001b[0m\n\u001b[1;32m----> 1\u001b[0m \u001b[38;5;28;43;01mfor\u001b[39;49;00m\u001b[43m \u001b[49m\u001b[43mi\u001b[49m\u001b[43m \u001b[49m\u001b[38;5;129;43;01min\u001b[39;49;00m\u001b[43m \u001b[49m\u001b[38;5;28;43;01mTrue\u001b[39;49;00m\u001b[43m:\u001b[49m\u001b[43m \u001b[49m\u001b[38;5;66;43;03m#iterable değil\u001b[39;49;00m\n\u001b[0;32m      2\u001b[0m \u001b[43m    \u001b[49m\u001b[38;5;28;43mprint\u001b[39;49m\u001b[43m(\u001b[49m\u001b[43mi\u001b[49m\u001b[43m)\u001b[49m\n",
      "\u001b[1;31mTypeError\u001b[0m: 'bool' object is not iterable"
     ]
    }
   ],
   "source": [
    "for i in True: #iterable değil\n",
    "    print(i)"
   ]
  },
  {
   "cell_type": "code",
   "execution_count": 62,
   "metadata": {},
   "outputs": [
    {
     "data": {
      "text/plain": [
       "'      techpro       '"
      ]
     },
     "execution_count": 62,
     "metadata": {},
     "output_type": "execute_result"
    }
   ],
   "source": [
    "\"techpro\".center(20) #20 karakter açıp ortaladı"
   ]
  },
  {
   "cell_type": "code",
   "execution_count": 63,
   "metadata": {},
   "outputs": [
    {
     "data": {
      "text/plain": [
       "'             techpro'"
      ]
     },
     "execution_count": 63,
     "metadata": {},
     "output_type": "execute_result"
    }
   ],
   "source": [
    "\"techpro\".rjust(20) #20 karakter açıp sağa yasladı"
   ]
  },
  {
   "cell_type": "code",
   "execution_count": 64,
   "metadata": {},
   "outputs": [
    {
     "data": {
      "text/plain": [
       "'techpro             '"
      ]
     },
     "execution_count": 64,
     "metadata": {},
     "output_type": "execute_result"
    }
   ],
   "source": [
    "\"techpro\".ljust(20) #20 karakter açıp sola yasladı"
   ]
  },
  {
   "cell_type": "markdown",
   "metadata": {},
   "source": [
    "##### 50 tane alt alta hoca ceza verdi yanında sayılar yazsn"
   ]
  },
  {
   "cell_type": "code",
   "execution_count": 71,
   "metadata": {},
   "outputs": [
    {
     "name": "stdout",
     "output_type": "stream",
     "text": [
      "1   - hoca bize ceza verdi\n",
      "2   - hoca bize ceza verdi\n",
      "3   - hoca bize ceza verdi\n",
      "4   - hoca bize ceza verdi\n",
      "5   - hoca bize ceza verdi\n",
      "6   - hoca bize ceza verdi\n",
      "7   - hoca bize ceza verdi\n",
      "8   - hoca bize ceza verdi\n",
      "9   - hoca bize ceza verdi\n",
      "10  - hoca bize ceza verdi\n",
      "11  - hoca bize ceza verdi\n",
      "12  - hoca bize ceza verdi\n",
      "13  - hoca bize ceza verdi\n",
      "14  - hoca bize ceza verdi\n",
      "15  - hoca bize ceza verdi\n",
      "16  - hoca bize ceza verdi\n",
      "17  - hoca bize ceza verdi\n",
      "18  - hoca bize ceza verdi\n",
      "19  - hoca bize ceza verdi\n",
      "20  - hoca bize ceza verdi\n",
      "21  - hoca bize ceza verdi\n",
      "22  - hoca bize ceza verdi\n",
      "23  - hoca bize ceza verdi\n",
      "24  - hoca bize ceza verdi\n",
      "25  - hoca bize ceza verdi\n",
      "26  - hoca bize ceza verdi\n",
      "27  - hoca bize ceza verdi\n",
      "28  - hoca bize ceza verdi\n",
      "29  - hoca bize ceza verdi\n",
      "30  - hoca bize ceza verdi\n",
      "31  - hoca bize ceza verdi\n",
      "32  - hoca bize ceza verdi\n",
      "33  - hoca bize ceza verdi\n",
      "34  - hoca bize ceza verdi\n",
      "35  - hoca bize ceza verdi\n",
      "36  - hoca bize ceza verdi\n",
      "37  - hoca bize ceza verdi\n",
      "38  - hoca bize ceza verdi\n",
      "39  - hoca bize ceza verdi\n",
      "40  - hoca bize ceza verdi\n",
      "41  - hoca bize ceza verdi\n",
      "42  - hoca bize ceza verdi\n",
      "43  - hoca bize ceza verdi\n",
      "44  - hoca bize ceza verdi\n",
      "45  - hoca bize ceza verdi\n",
      "46  - hoca bize ceza verdi\n",
      "47  - hoca bize ceza verdi\n",
      "48  - hoca bize ceza verdi\n",
      "49  - hoca bize ceza verdi\n",
      "50  - hoca bize ceza verdi\n"
     ]
    }
   ],
   "source": [
    "for i in range(1,51) :\n",
    "    print(f\"{i:<3} - hoca bize ceza verdi\")"
   ]
  },
  {
   "cell_type": "code",
   "execution_count": 74,
   "metadata": {},
   "outputs": [
    {
     "name": "stdout",
     "output_type": "stream",
     "text": [
      "3\n",
      "6\n",
      "9\n",
      "12\n",
      "15\n",
      "18\n",
      "21\n",
      "24\n",
      "27\n"
     ]
    }
   ],
   "source": [
    "x=int(input(\"say giriniz 1 ve 9 arasında\"))\n",
    "for i in range(1,10) :\n",
    "    print(i*x)"
   ]
  },
  {
   "cell_type": "code",
   "execution_count": null,
   "metadata": {},
   "outputs": [],
   "source": []
  }
 ],
 "metadata": {
  "kernelspec": {
   "display_name": "Python 3",
   "language": "python",
   "name": "python3"
  },
  "language_info": {
   "codemirror_mode": {
    "name": "ipython",
    "version": 3
   },
   "file_extension": ".py",
   "mimetype": "text/x-python",
   "name": "python",
   "nbconvert_exporter": "python",
   "pygments_lexer": "ipython3",
   "version": "3.12.1"
  }
 },
 "nbformat": 4,
 "nbformat_minor": 2
}
