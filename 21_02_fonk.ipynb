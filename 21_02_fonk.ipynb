{
 "cells": [
  {
   "cell_type": "code",
   "execution_count": 1,
   "metadata": {},
   "outputs": [
    {
     "name": "stdout",
     "output_type": "stream",
     "text": [
      "bism\n"
     ]
    }
   ],
   "source": [
    "print(\"bism\")"
   ]
  },
  {
   "cell_type": "code",
   "execution_count": 6,
   "metadata": {},
   "outputs": [
    {
     "name": "stdout",
     "output_type": "stream",
     "text": [
      "157 asal sayıdır\n"
     ]
    }
   ],
   "source": [
    "x=int(input(\"bir sayı giriniz\"))\n",
    "if x > 1 :\n",
    "    count=0\n",
    "    for i in range(2,x):\n",
    "        if x % i == 0:\n",
    "            count += 1\n",
    "    if count ==0:\n",
    "        print(f\"{x} asal sayıdır\")\n",
    "    else:\n",
    "        print(f\"{x} asal sayı değildir\")\n",
    "else :\n",
    "    print(\"girilen sayı 1 den büyük olmalıdır\")"
   ]
  },
  {
   "cell_type": "code",
   "execution_count": 14,
   "metadata": {},
   "outputs": [],
   "source": [
    "def find_prime_num(x):\n",
    "    \"\"\"bu fonk sayının asal olup olmadğnı bulur\"\"\"\n",
    "    if x>1:\n",
    "        for i in range(2,x):\n",
    "            if x % i == 0 :\n",
    "                print(f\"{x} asal değil\")\n",
    "                break\n",
    "                        \n",
    "            else:\n",
    "                return f\" {x} asaldır \"  \n",
    "    else :\n",
    "\n",
    "        return f\"girdiğinz sayı {x} 1 den büyük olmalı\"                  "
   ]
  },
  {
   "cell_type": "code",
   "execution_count": 16,
   "metadata": {},
   "outputs": [
    {
     "data": {
      "text/plain": [
       "' 9 asaldır '"
      ]
     },
     "execution_count": 16,
     "metadata": {},
     "output_type": "execute_result"
    }
   ],
   "source": [
    "find_prime_num(9)"
   ]
  },
  {
   "cell_type": "code",
   "execution_count": 17,
   "metadata": {},
   "outputs": [],
   "source": [
    "def find_prime_number(x):\n",
    "\n",
    "    \"\"\"Bu fonsiyon sayının asalsayı olup olmadığını tespit eder.\"\"\"\n",
    "\n",
    "    if x > 1:\n",
    "\n",
    "        for i in range(2, x):\n",
    "\n",
    "            if x % i == 0:\n",
    "                print(f\"{x} sayısı asal değildir\")\n",
    "                break\n",
    "        \n",
    "        else:    \n",
    "            return f\"{x} sayısı asal sayıdır\"\n",
    "            \n",
    "    else:\n",
    "        return f\"girdiğiniz sayı {x}. 1 den bütük olmalıdır\""
   ]
  },
  {
   "cell_type": "code",
   "execution_count": 18,
   "metadata": {},
   "outputs": [
    {
     "name": "stdout",
     "output_type": "stream",
     "text": [
      "9 sayısı asal değildir\n"
     ]
    }
   ],
   "source": [
    "find_prime_number(9)"
   ]
  },
  {
   "cell_type": "code",
   "execution_count": null,
   "metadata": {},
   "outputs": [],
   "source": [
    "result = []\n",
    "for i in range(2,101):\n",
    "    if find_prime_number(i) != None: #çıktı vermeme durumu none dır.\n",
    "        result.append(i)\n",
    "result"
   ]
  },
  {
   "cell_type": "markdown",
   "metadata": {},
   "source": [
    "## positional and keyword arguments"
   ]
  },
  {
   "cell_type": "code",
   "execution_count": 20,
   "metadata": {},
   "outputs": [],
   "source": [
    "def my_name(first_name,last_name):\n",
    "    print(f\"my name is {first_name} {last_name}\")"
   ]
  },
  {
   "cell_type": "code",
   "execution_count": 21,
   "metadata": {},
   "outputs": [
    {
     "name": "stdout",
     "output_type": "stream",
     "text": [
      "my name is medine altın\n"
     ]
    }
   ],
   "source": [
    "my_name(\"medine\",\"altın\")"
   ]
  },
  {
   "cell_type": "code",
   "execution_count": 22,
   "metadata": {},
   "outputs": [
    {
     "name": "stdout",
     "output_type": "stream",
     "text": [
      "my name is altın medine\n"
     ]
    }
   ],
   "source": [
    "my_name(\"altın\",\"medine\") #positional demek sıralamanın önemini vurgular"
   ]
  },
  {
   "cell_type": "code",
   "execution_count": 23,
   "metadata": {},
   "outputs": [
    {
     "name": "stdout",
     "output_type": "stream",
     "text": [
      "my name is medine altın\n"
     ]
    }
   ],
   "source": [
    "my_name(last_name=\"altın\", first_name=\"medine\") "
   ]
  },
  {
   "cell_type": "code",
   "execution_count": 24,
   "metadata": {},
   "outputs": [
    {
     "ename": "TypeError",
     "evalue": "my_name() missing 1 required positional argument: 'last_name'",
     "output_type": "error",
     "traceback": [
      "\u001b[1;31m---------------------------------------------------------------------------\u001b[0m",
      "\u001b[1;31mTypeError\u001b[0m                                 Traceback (most recent call last)",
      "Cell \u001b[1;32mIn[24], line 1\u001b[0m\n\u001b[1;32m----> 1\u001b[0m \u001b[43mmy_name\u001b[49m\u001b[43m(\u001b[49m\u001b[38;5;124;43m\"\u001b[39;49m\u001b[38;5;124;43mmedine\u001b[39;49m\u001b[38;5;124;43m\"\u001b[39;49m\u001b[43m)\u001b[49m\n",
      "\u001b[1;31mTypeError\u001b[0m: my_name() missing 1 required positional argument: 'last_name'"
     ]
    }
   ],
   "source": [
    "my_name(\"medine\") #bir tane positional argüman last_name eksik "
   ]
  },
  {
   "cell_type": "code",
   "execution_count": 27,
   "metadata": {},
   "outputs": [],
   "source": [
    "def your_name(first_name,last_name=\"erdal\"):\n",
    "    print(f\"your name is {first_name} {last_name}\")\n",
    "\n"
   ]
  },
  {
   "cell_type": "code",
   "execution_count": 28,
   "metadata": {},
   "outputs": [
    {
     "name": "stdout",
     "output_type": "stream",
     "text": [
      "your name is betül erdal\n"
     ]
    }
   ],
   "source": [
    "your_name(\"betül\") #varsayılan değer üstteki kodda var olduğu için last name olarak geldi"
   ]
  },
  {
   "cell_type": "code",
   "execution_count": 29,
   "metadata": {},
   "outputs": [
    {
     "name": "stdout",
     "output_type": "stream",
     "text": [
      "your name is medine altın\n"
     ]
    }
   ],
   "source": [
    "your_name(\"medine\",\"altın\") #last_name olarak ikinci parametreyi yazarsak varsayılan yerine yeni yazdğmz last name değeri olur."
   ]
  },
  {
   "cell_type": "code",
   "execution_count": 30,
   "metadata": {},
   "outputs": [
    {
     "ename": "SyntaxError",
     "evalue": "positional argument follows keyword argument (2543678217.py, line 1)",
     "output_type": "error",
     "traceback": [
      "\u001b[1;36m  Cell \u001b[1;32mIn[30], line 1\u001b[1;36m\u001b[0m\n\u001b[1;33m    your_name(last_name=\"yıldız\",\"murat\") #önce positional olanlar yazılır first_name\u001b[0m\n\u001b[1;37m                                        ^\u001b[0m\n\u001b[1;31mSyntaxError\u001b[0m\u001b[1;31m:\u001b[0m positional argument follows keyword argument\n"
     ]
    }
   ],
   "source": [
    "your_name(last_name=\"yıldız\",\"murat\") #önce positional olanlar yazılır first_name"
   ]
  },
  {
   "cell_type": "code",
   "execution_count": 31,
   "metadata": {},
   "outputs": [
    {
     "name": "stdout",
     "output_type": "stream",
     "text": [
      "your name is murat yıldız\n"
     ]
    }
   ],
   "source": [
    "your_name(last_name=\"yıldız\",first_name=\"murat\")"
   ]
  },
  {
   "cell_type": "code",
   "execution_count": null,
   "metadata": {},
   "outputs": [],
   "source": [
    "def your_name2(first_name,second_name=\"ali\",last_name=\"erdal\"):"
   ]
  },
  {
   "cell_type": "code",
   "execution_count": 33,
   "metadata": {},
   "outputs": [
    {
     "ename": "SyntaxError",
     "evalue": "parameter without a default follows parameter with a default (3259220709.py, line 1)",
     "output_type": "error",
     "traceback": [
      "\u001b[1;36m  Cell \u001b[1;32mIn[33], line 1\u001b[1;36m\u001b[0m\n\u001b[1;33m    def your_name2(first_name,second_name=\"ali\",last_name):\u001b[0m\n\u001b[1;37m                                                ^\u001b[0m\n\u001b[1;31mSyntaxError\u001b[0m\u001b[1;31m:\u001b[0m parameter without a default follows parameter with a default\n"
     ]
    }
   ],
   "source": [
    "def your_name2(first_name,second_name=\"ali\",last_name): #default değeri second_name i sona yazmak gerekir\n",
    "    print(f\"your name is {first_name} {second_name} {last_name}\")\n"
   ]
  },
  {
   "cell_type": "code",
   "execution_count": 34,
   "metadata": {},
   "outputs": [],
   "source": [
    "def your_name2(first_name,last_name,second_name=\"ali\"):\n",
    "    print(f\"your name is {first_name} {second_name} {last_name}\")"
   ]
  },
  {
   "cell_type": "code",
   "execution_count": 35,
   "metadata": {},
   "outputs": [
    {
     "name": "stdout",
     "output_type": "stream",
     "text": [
      "your name is yusuf ali altın\n"
     ]
    }
   ],
   "source": [
    "your_name2(\"yusuf\",\"altın\")"
   ]
  },
  {
   "cell_type": "code",
   "execution_count": 36,
   "metadata": {},
   "outputs": [
    {
     "name": "stdout",
     "output_type": "stream",
     "text": [
      "your name is yusuf hasan altın\n"
     ]
    }
   ],
   "source": [
    "your_name2(\"yusuf\",\"altın\",\"hasan\") #second_name olan hasanı yine ortaya yazdı."
   ]
  },
  {
   "cell_type": "code",
   "execution_count": 37,
   "metadata": {},
   "outputs": [],
   "source": [
    "def tek_sayılar(a,b,c,d,e):\n",
    "    tek_sayılar = []\n",
    "    for i in a,b,c,d,e:\n",
    "        if i%2:\n",
    "            tek_sayılar.append(i)\n",
    "    return tek_sayılar"
   ]
  },
  {
   "cell_type": "code",
   "execution_count": 38,
   "metadata": {},
   "outputs": [
    {
     "data": {
      "text/plain": [
       "[75, 45, 15]"
      ]
     },
     "execution_count": 38,
     "metadata": {},
     "output_type": "execute_result"
    }
   ],
   "source": [
    "tek_sayılar(4,75,45,26,15)"
   ]
  },
  {
   "cell_type": "code",
   "execution_count": 40,
   "metadata": {},
   "outputs": [
    {
     "ename": "TypeError",
     "evalue": "tek_sayılar() missing 1 required positional argument: 'e'",
     "output_type": "error",
     "traceback": [
      "\u001b[1;31m---------------------------------------------------------------------------\u001b[0m",
      "\u001b[1;31mTypeError\u001b[0m                                 Traceback (most recent call last)",
      "Cell \u001b[1;32mIn[40], line 1\u001b[0m\n\u001b[1;32m----> 1\u001b[0m \u001b[43mtek_sayılar\u001b[49m\u001b[43m(\u001b[49m\u001b[38;5;241;43m4\u001b[39;49m\u001b[43m,\u001b[49m\u001b[38;5;241;43m75\u001b[39;49m\u001b[43m,\u001b[49m\u001b[38;5;241;43m45\u001b[39;49m\u001b[43m,\u001b[49m\u001b[38;5;241;43m26\u001b[39;49m\u001b[43m)\u001b[49m\n",
      "\u001b[1;31mTypeError\u001b[0m: tek_sayılar() missing 1 required positional argument: 'e'"
     ]
    }
   ],
   "source": [
    "tek_sayılar(4,75,45,26) #fonk tanımlarken kaç tane posiontinal argüman yazdıysak okadar sayıda argüman ile çağırmalıyız.\n",
    "                        # 5 tane yazmştk 4 çağrdk oyuzden hata"
   ]
  },
  {
   "cell_type": "markdown",
   "metadata": {},
   "source": [
    "## arbitrary number of arguments(*arg,**kwargs )"
   ]
  },
  {
   "cell_type": "markdown",
   "metadata": {},
   "source": [
    "#### *arg"
   ]
  },
  {
   "cell_type": "code",
   "execution_count": 43,
   "metadata": {},
   "outputs": [],
   "source": [
    "def tek_sayılar2(* sayılar): #burada olan * herhangi sayıda değer çağırabilmek içindir\n",
    "    tek_sayılar = []\n",
    "    for i in sayılar:\n",
    "        if i%2:\n",
    "            tek_sayılar.append(i)\n",
    "    return tek_sayılar"
   ]
  },
  {
   "cell_type": "code",
   "execution_count": 44,
   "metadata": {},
   "outputs": [
    {
     "data": {
      "text/plain": [
       "[75, 45]"
      ]
     },
     "execution_count": 44,
     "metadata": {},
     "output_type": "execute_result"
    }
   ],
   "source": [
    "tek_sayılar2(4,75,45,26) #yukarıda 5 tane girdik 4 çağıramadık burda çağrdk"
   ]
  },
  {
   "cell_type": "code",
   "execution_count": 45,
   "metadata": {},
   "outputs": [
    {
     "data": {
      "text/plain": [
       "[75, 45, 45, 15]"
      ]
     },
     "execution_count": 45,
     "metadata": {},
     "output_type": "execute_result"
    }
   ],
   "source": [
    "tek_sayılar2(4,75,45,26,45,38,15,14,18,88)"
   ]
  },
  {
   "cell_type": "code",
   "execution_count": 57,
   "metadata": {},
   "outputs": [],
   "source": [
    "def tek_sayılar2(* sayılar):\n",
    "\n",
    "    \n",
    "    tek_sayılar = []\n",
    "    for i in sayılar:\n",
    "        if i%2:\n",
    "            i=i*2\n",
    "            tek_sayılar.append(i)\n",
    "    return tek_sayılar\n",
    "def çift_sayılar(* sayılar):\n",
    "    çift_sayılar = []\n",
    "    for i in sayılar:\n",
    "        if i% 2==0:\n",
    "            i=i**2\n",
    "            çift_sayılar.append(i)\n",
    "    return çift_sayılar"
   ]
  },
  {
   "cell_type": "code",
   "execution_count": 60,
   "metadata": {},
   "outputs": [
    {
     "data": {
      "text/plain": [
       "[4, 36, 64]"
      ]
     },
     "execution_count": 60,
     "metadata": {},
     "output_type": "execute_result"
    }
   ],
   "source": [
    "çift_sayılar(2,6,5,7,8,9)"
   ]
  },
  {
   "cell_type": "markdown",
   "metadata": {},
   "source": [
    "##### teklerin karesini çiftlerin 2katını yaz"
   ]
  },
  {
   "cell_type": "code",
   "execution_count": 66,
   "metadata": {},
   "outputs": [],
   "source": [
    "def tek_çift(* sayılar):\n",
    "\n",
    "    result = []\n",
    "    for i in sayılar:\n",
    "        if i % 2 == 0:\n",
    "            result.append(i * 2)\n",
    "        else:\n",
    "            result.append(i ** 2)\n",
    "    \n",
    "    return result"
   ]
  },
  {
   "cell_type": "code",
   "execution_count": 69,
   "metadata": {},
   "outputs": [
    {
     "data": {
      "text/plain": [
       "[1, 4, 9, 8, 25, 12, 49, 16, 81]"
      ]
     },
     "execution_count": 69,
     "metadata": {},
     "output_type": "execute_result"
    }
   ],
   "source": [
    "tek_çift(1,2,3,4,5,6,7,8,9)"
   ]
  },
  {
   "cell_type": "code",
   "execution_count": 67,
   "metadata": {},
   "outputs": [],
   "source": [
    "def tek_çift_2(* sayılar):\n",
    "\n",
    "    return [i * 2 if i % 2 == 0 else  i ** 2 for i in sayılar]"
   ]
  },
  {
   "cell_type": "code",
   "execution_count": 68,
   "metadata": {},
   "outputs": [
    {
     "data": {
      "text/plain": [
       "[1, 4, 9, 8, 25, 12, 49, 16, 81]"
      ]
     },
     "execution_count": 68,
     "metadata": {},
     "output_type": "execute_result"
    }
   ],
   "source": [
    "tek_çift_2(1,2,3,4,5,6,7,8,9)"
   ]
  },
  {
   "cell_type": "code",
   "execution_count": 64,
   "metadata": {},
   "outputs": [
    {
     "data": {
      "text/plain": [
       "[2, 6, 10, 14, 18]"
      ]
     },
     "execution_count": 64,
     "metadata": {},
     "output_type": "execute_result"
    }
   ],
   "source": [
    "tek_sayılar2(* range(1,10)) #range çağırırkende * kullanılmalı * ayrı ayrı elemanlara çevirir"
   ]
  },
  {
   "cell_type": "code",
   "execution_count": 65,
   "metadata": {},
   "outputs": [
    {
     "name": "stdout",
     "output_type": "stream",
     "text": [
      "m e d i n e\n"
     ]
    }
   ],
   "source": [
    "print(*\"medine\") "
   ]
  },
  {
   "cell_type": "markdown",
   "metadata": {},
   "source": [
    "## **kwargs"
   ]
  },
  {
   "cell_type": "code",
   "execution_count": 72,
   "metadata": {},
   "outputs": [
    {
     "data": {
      "text/plain": [
       "{'name1': 'seyda', 'name2': 'medine', 'name3': 'orkun'}"
      ]
     },
     "execution_count": 72,
     "metadata": {},
     "output_type": "execute_result"
    }
   ],
   "source": [
    "dict_1={\"name1\":\"seyda\",\"name2\":\"medine\",\"name3\":\"orkun\"}\n",
    "dict_1"
   ]
  },
  {
   "cell_type": "code",
   "execution_count": 75,
   "metadata": {},
   "outputs": [],
   "source": [
    "def kwargs_function(** kwargs): #kwarg de dict kullanmamz gerekr\n",
    "    for i,j in kwargs.items():\n",
    "        print(f\"key:{i},  value:{j}\")"
   ]
  },
  {
   "cell_type": "code",
   "execution_count": 76,
   "metadata": {},
   "outputs": [
    {
     "ename": "TypeError",
     "evalue": "kwargs_function() takes 0 positional arguments but 1 was given",
     "output_type": "error",
     "traceback": [
      "\u001b[1;31m---------------------------------------------------------------------------\u001b[0m",
      "\u001b[1;31mTypeError\u001b[0m                                 Traceback (most recent call last)",
      "Cell \u001b[1;32mIn[76], line 1\u001b[0m\n\u001b[1;32m----> 1\u001b[0m \u001b[43mkwargs_function\u001b[49m\u001b[43m(\u001b[49m\u001b[43mdict_1\u001b[49m\u001b[43m)\u001b[49m\n",
      "\u001b[1;31mTypeError\u001b[0m: kwargs_function() takes 0 positional arguments but 1 was given"
     ]
    }
   ],
   "source": [
    "kwargs_function(dict_1)"
   ]
  },
  {
   "cell_type": "code",
   "execution_count": 77,
   "metadata": {},
   "outputs": [
    {
     "name": "stdout",
     "output_type": "stream",
     "text": [
      "key:name4,  value:oğuz\n",
      "key:name5,  value:murat\n"
     ]
    }
   ],
   "source": [
    "kwargs_function(name4=\"oğuz\",name5=\"murat\") #fonk oluşturuken **kwargs ile olştrdğmz için istedğmz kadar değer ile çağırablrz"
   ]
  },
  {
   "cell_type": "code",
   "execution_count": 78,
   "metadata": {},
   "outputs": [
    {
     "name": "stdout",
     "output_type": "stream",
     "text": [
      "key:name4,  value:oğuz\n",
      "key:name5,  value:murat\n",
      "key:name1,  value:seyda\n",
      "key:name2,  value:medine\n",
      "key:name3,  value:orkun\n"
     ]
    }
   ],
   "source": [
    "kwargs_function(name4=\"oğuz\",name5=\"murat\",name1=\"seyda\",name2=\"medine\",name3=\"orkun\")"
   ]
  },
  {
   "cell_type": "markdown",
   "metadata": {},
   "source": [
    "Anne, baba ve çocuktan oluşan çekirdek ailenin Süper aile olup olmadığını bulan kodu yazın. isimleri kullanıcıdan isteyin. (Çocuğun ismindeki sessiz harflerin hepsi, anne ve babanın isimlerinde var ise bu aile süper ailedir.(Not: anne ve baba isminden en az bir tane olmalı.). örn1: baba adı = \"Halil\", anne adı= \"Merve\", çocuk adı= \"Veli\" >> Süper aile. (\"v\" anneden, \"l\" babadan) örn2: baba adı = \"Murat\", anne adı= \"Songül\", çocuk adı= \"Mert\" >> Süper aile değil. Anneden harf yok."
   ]
  }
 ],
 "metadata": {
  "kernelspec": {
   "display_name": "Python 3",
   "language": "python",
   "name": "python3"
  },
  "language_info": {
   "codemirror_mode": {
    "name": "ipython",
    "version": 3
   },
   "file_extension": ".py",
   "mimetype": "text/x-python",
   "name": "python",
   "nbconvert_exporter": "python",
   "pygments_lexer": "ipython3",
   "version": "3.12.1"
  }
 },
 "nbformat": 4,
 "nbformat_minor": 2
}
