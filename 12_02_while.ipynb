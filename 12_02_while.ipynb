{
 "cells": [
  {
   "cell_type": "code",
   "execution_count": 1,
   "metadata": {},
   "outputs": [
    {
     "name": "stdout",
     "output_type": "stream",
     "text": [
      "bism\n"
     ]
    }
   ],
   "source": [
    "print(\"bism\")"
   ]
  },
  {
   "cell_type": "markdown",
   "metadata": {},
   "source": [
    "# loops"
   ]
  },
  {
   "cell_type": "markdown",
   "metadata": {},
   "source": [
    "### while (true olduğu sürece çalışır)"
   ]
  },
  {
   "cell_type": "code",
   "execution_count": null,
   "metadata": {},
   "outputs": [],
   "source": [
    "while 10>4 : # çalıştırma sonsuza kadar döngü\n",
    "    print(\"bu döngü sonsuza kadar çalşr\")"
   ]
  },
  {
   "cell_type": "code",
   "execution_count": 3,
   "metadata": {},
   "outputs": [
    {
     "name": "stdout",
     "output_type": "stream",
     "text": [
      "bu döngü koşul sağlandkça çıktı verir\n",
      "bu döngü koşul sağlandkça çıktı verir\n",
      "bu döngü koşul sağlandkça çıktı verir\n",
      "bu döngü koşul sağlandkça çıktı verir\n",
      "bu döngü koşul sağlandkça çıktı verir\n",
      "bu döngü koşul sağlandkça çıktı verir\n"
     ]
    }
   ],
   "source": [
    "x=4\n",
    "\n",
    "while 10>x:\n",
    "    print(\"bu döngü koşul sağlandkça çıktı verir\")\n",
    "    x=x+1 # x 4 ile başladı b satırda +1 olarak döngü başa döndü devam etti "
   ]
  },
  {
   "cell_type": "code",
   "execution_count": 4,
   "metadata": {},
   "outputs": [
    {
     "name": "stdout",
     "output_type": "stream",
     "text": [
      "1\n",
      "3\n",
      "5\n",
      "7\n",
      "9\n"
     ]
    }
   ],
   "source": [
    "x=1\n",
    "\n",
    "while x<10:\n",
    "    print(x)\n",
    "    x=x+2"
   ]
  },
  {
   "cell_type": "code",
   "execution_count": null,
   "metadata": {},
   "outputs": [],
   "source": [
    "x=1\n",
    "\n",
    "while x<10:\n",
    "    print(x)\n",
    "x=x+1 # eğer bu satırı döngünün içine yazmazsak yine sonsuza gider. 4boşluktan sonra yazılır"
   ]
  },
  {
   "cell_type": "code",
   "execution_count": 5,
   "metadata": {},
   "outputs": [
    {
     "name": "stdout",
     "output_type": "stream",
     "text": [
      "2\n",
      "3\n",
      "4\n",
      "5\n",
      "6\n",
      "7\n",
      "8\n",
      "9\n",
      "10\n"
     ]
    }
   ],
   "source": [
    "x=1\n",
    "\n",
    "while x<10:\n",
    "    x=x+1 #x i artırıp sonra yazdıracak\n",
    "    print(x)"
   ]
  },
  {
   "cell_type": "code",
   "execution_count": 6,
   "metadata": {},
   "outputs": [],
   "source": [
    "while False :\n",
    "    print(\"çıktı vermeyecek\")"
   ]
  },
  {
   "cell_type": "code",
   "execution_count": 7,
   "metadata": {},
   "outputs": [],
   "source": [
    "while\"\": # \"\" boş str de falsedur\n",
    "    print(\"çıktı vermeyecek\")"
   ]
  },
  {
   "cell_type": "code",
   "execution_count": null,
   "metadata": {},
   "outputs": [],
   "source": [
    "x=1\n",
    "\n",
    "while x<10:\n",
    "    print(x)\n",
    "    x=x+2 # x+=2 aynı şeydir\n"
   ]
  },
  {
   "cell_type": "code",
   "execution_count": null,
   "metadata": {},
   "outputs": [],
   "source": [
    "x**=2 #x in karesi"
   ]
  },
  {
   "cell_type": "code",
   "execution_count": 8,
   "metadata": {},
   "outputs": [
    {
     "name": "stdout",
     "output_type": "stream",
     "text": [
      "while false olana kadar döner\n"
     ]
    }
   ],
   "source": [
    "y=True\n",
    "while y:\n",
    "    print(\"while false olana kadar döner\")\n",
    "    y=False"
   ]
  },
  {
   "cell_type": "code",
   "execution_count": 9,
   "metadata": {},
   "outputs": [
    {
     "name": "stdout",
     "output_type": "stream",
     "text": [
      "deneme:1\n",
      "deneme:2\n",
      "deneme:3\n",
      "3 deneme hakkı bitti\n"
     ]
    }
   ],
   "source": [
    "x=1\n",
    "while x<=3:\n",
    "    print(f\"deneme:{x}\")\n",
    "    x+=1\n",
    "print(\"3 deneme hakkı bitti\")"
   ]
  },
  {
   "cell_type": "code",
   "execution_count": 10,
   "metadata": {},
   "outputs": [
    {
     "name": "stdout",
     "output_type": "stream",
     "text": [
      "deneme:1\n",
      "3 deneme hakkı bitti\n",
      "deneme:2\n",
      "3 deneme hakkı bitti\n",
      "deneme:3\n",
      "3 deneme hakkı bitti\n"
     ]
    }
   ],
   "source": [
    "x=1\n",
    "while x<=3:\n",
    "    print(f\"deneme:{x}\")\n",
    "    x+=1\n",
    "    print(\"3 deneme hakkı bitti\") #döngünün içine yazarsak yanlış olur"
   ]
  },
  {
   "cell_type": "code",
   "execution_count": 12,
   "metadata": {},
   "outputs": [
    {
     "name": "stdout",
     "output_type": "stream",
     "text": [
      "x:1\n",
      "x:4\n",
      "x:9\n",
      "x:16\n",
      "x:25\n"
     ]
    }
   ],
   "source": [
    "x = 1\n",
    "while x <= 5 :\n",
    "    print(f\"x:{x**2}\")\n",
    "    x += 1\n"
   ]
  },
  {
   "cell_type": "code",
   "execution_count": 19,
   "metadata": {},
   "outputs": [
    {
     "name": "stdout",
     "output_type": "stream",
     "text": [
      "40 yanlış tahmin tekrar dene\n",
      "50 yanlış tahmin tekrar dene\n",
      "80 yanlış tahmin tekrar dene\n"
     ]
    }
   ],
   "source": [
    "x=int(input(\"kilomu tahmin et 10 luk değerler kullanabilirsin\"))\n",
    "while x < 90 :\n",
    "    print(f\"{x} yanlış tahmin tekrar dene\")\n",
    "    x=int(input(\"kilomu tahmin et 10 luk değerler kullanabilirsin\"))"
   ]
  },
  {
   "cell_type": "code",
   "execution_count": null,
   "metadata": {},
   "outputs": [],
   "source": [
    "x=int(input(\"tahmin ettiğiniz sayıyı giriniz\"))"
   ]
  },
  {
   "cell_type": "code",
   "execution_count": 21,
   "metadata": {},
   "outputs": [
    {
     "name": "stdout",
     "output_type": "stream",
     "text": [
      "girdiğnz sayı:44.tahminini arttır\n",
      "girdiğnz sayı:70.tahminini azalt\n",
      "girdiğnz sayı:82.tahminini azalt\n",
      "girdiğnz sayı:53.tahminini arttır\n",
      "girdiğnz sayı:53.tahminini arttır\n",
      "girdiğinz sayı:55. doğru bildiniz\n",
      "girdiğinz sayı:55. doğru bildiniz\n"
     ]
    }
   ],
   "source": [
    "y = True\n",
    "\n",
    "aklımdaki_sayı=55\n",
    "\n",
    "while y :\n",
    "    tahmin=int(input(\"1 ile 100 arasında bir sayı tahmin edin\"))\n",
    "    if aklımdaki_sayı<tahmin:\n",
    "        print(f\"girdiğnz sayı:{tahmin}.tahminini azalt\")\n",
    "    elif aklımdaki_sayı>tahmin:\n",
    "        print(f\"girdiğnz sayı:{tahmin}.tahminini arttır\")\n",
    "    else:\n",
    "        print(f\"girdiğinz sayı:{tahmin}. doğru bildiniz\")\n",
    "        y=False #y nin yeri önemli"
   ]
  },
  {
   "cell_type": "code",
   "execution_count": 4,
   "metadata": {},
   "outputs": [
    {
     "name": "stdout",
     "output_type": "stream",
     "text": [
      "girdiğnz sayı:50.tahminini arttır\n"
     ]
    }
   ],
   "source": [
    "y = True\n",
    "\n",
    "aklımdaki_sayı=55\n",
    "\n",
    "while y :\n",
    "    tahmin=int(input(\"1 ile 100 arasında bir sayı tahmin edin\"))\n",
    "    if aklımdaki_sayı<tahmin:\n",
    "        print(f\"girdiğnz sayı:{tahmin}.tahminini azalt\")\n",
    "    elif aklımdaki_sayı>tahmin:\n",
    "        print(f\"girdiğnz sayı:{tahmin}.tahminini arttır\")\n",
    "    else:\n",
    "        print(f\"girdiğinz sayı:{tahmin}. doğru bildiniz\")\n",
    "    y=False #y nin yeri önemli burada olunca sadece bir kere çalştı döngü devam etmedi"
   ]
  },
  {
   "cell_type": "code",
   "execution_count": 1,
   "metadata": {},
   "outputs": [
    {
     "name": "stdout",
     "output_type": "stream",
     "text": [
      "girdiğnz sayı:50.tahminini arttır\n",
      "girdiğinz sayı:55.2 kerede bidiniz\n"
     ]
    }
   ],
   "source": [
    "y = True\n",
    "\n",
    "aklımdaki_sayı=55\n",
    "\n",
    "sayaç=0\n",
    "\n",
    "while y :\n",
    "    tahmin=int(input(\"1 ile 100 arasında bir sayı tahmin edin\"))\n",
    "\n",
    "    sayaç +=1\n",
    "\n",
    "    if aklımdaki_sayı<tahmin:\n",
    "        print(f\"girdiğnz sayı:{tahmin}.tahminini azalt\")\n",
    "\n",
    "    elif aklımdaki_sayı>tahmin:\n",
    "        print(f\"girdiğnz sayı:{tahmin}.tahminini arttır\")\n",
    "\n",
    "    else:\n",
    "        print(f\"girdiğinz sayı:{tahmin}.{sayaç} kerede bidiniz\")\n",
    "        \n",
    "        y=False"
   ]
  },
  {
   "cell_type": "code",
   "execution_count": 3,
   "metadata": {},
   "outputs": [
    {
     "name": "stdout",
     "output_type": "stream",
     "text": [
      "girdiğnz sayı:50.tahminini arttır\n",
      "girdiğnz sayı:40.tahminini arttır\n",
      "girdiğnz sayı:80.tahminini azalt\n",
      "girdiğinz sayı:55.1 kerede bidiniz\n"
     ]
    }
   ],
   "source": [
    "y = True\n",
    "\n",
    "aklımdaki_sayı=55\n",
    "\n",
    "\n",
    "while y :\n",
    "    sayaç=0 # döngünü içine yazarsak her defasnda 1.kerede bildiniz der\n",
    "    tahmin=int(input(\"1 ile 100 arasında bir sayı tahmin edin\"))\n",
    "\n",
    "    sayaç +=1\n",
    "\n",
    "    if aklımdaki_sayı<tahmin:\n",
    "        print(f\"girdiğnz sayı:{tahmin}.tahminini azalt\")\n",
    "\n",
    "    elif aklımdaki_sayı>tahmin:\n",
    "        print(f\"girdiğnz sayı:{tahmin}.tahminini arttır\")\n",
    "        \n",
    "    else:\n",
    "        print(f\"girdiğinz sayı:{tahmin}.{sayaç} kerede bidiniz\")\n",
    "        y=False"
   ]
  },
  {
   "cell_type": "code",
   "execution_count": 6,
   "metadata": {},
   "outputs": [
    {
     "name": "stdout",
     "output_type": "stream",
     "text": [
      "girdiğnz sayı:50.tahminini arttır\n",
      "girdiğnz sayı:58.tahminini azalt\n",
      "girdiğnz sayı:57.tahminini azalt\n",
      "girdiğnz sayı:56.tahminini azalt\n",
      "girdiğnz sayı:54.tahminini arttır\n"
     ]
    }
   ],
   "source": [
    "y = True\n",
    "\n",
    "aklımdaki_sayı=55\n",
    "\n",
    "sayaç=0\n",
    "\n",
    "while y :\n",
    "    tahmin=int(input(\"1 ile 100 arasında bir sayı tahmin edin\"))\n",
    "\n",
    "    sayaç +=1\n",
    "\n",
    "    if aklımdaki_sayı<tahmin:\n",
    "        print(f\"girdiğnz sayı:{tahmin}.tahminini azalt\")\n",
    "\n",
    "    elif aklımdaki_sayı>tahmin:\n",
    "        print(f\"girdiğnz sayı:{tahmin}.tahminini arttır\")\n",
    "\n",
    "    else:\n",
    "        print(f\"girdiğinz sayı:{tahmin}.{sayaç} kerede bidiniz\")\n",
    "        \n",
    "        y=False\n",
    "    if sayaç == 5: # 5defa çalıştıktan sonra döngü durur\n",
    "        y = False"
   ]
  },
  {
   "cell_type": "code",
   "execution_count": 7,
   "metadata": {},
   "outputs": [],
   "source": [
    "sayılar_listesi= [1,3,4,6,5,7]"
   ]
  },
  {
   "cell_type": "code",
   "execution_count": 11,
   "metadata": {},
   "outputs": [
    {
     "name": "stdout",
     "output_type": "stream",
     "text": [
      "1\n",
      "9\n",
      "16\n",
      "36\n",
      "25\n",
      "49\n"
     ]
    }
   ],
   "source": [
    "x=0\n",
    "\n",
    "while x < len(sayılar_listesi):\n",
    "    \n",
    "\n",
    "    print(sayılar_listesi[x]**2)\n",
    "\n",
    "    x+=1"
   ]
  },
  {
   "cell_type": "code",
   "execution_count": 17,
   "metadata": {},
   "outputs": [
    {
     "name": "stdout",
     "output_type": "stream",
     "text": [
      "[1, 9, 16, 36, 25, 49]\n"
     ]
    }
   ],
   "source": [
    "sayılar_listesi= [1,3,4,6,5,7]\n",
    "karelerlist=[]\n",
    "x=0\n",
    "\n",
    "while x < len(sayılar_listesi):\n",
    "    karelerlist.append((sayılar_listesi[x]**2))\n",
    "    x+=1\n",
    "print(karelerlist)\n"
   ]
  },
  {
   "cell_type": "code",
   "execution_count": 23,
   "metadata": {},
   "outputs": [
    {
     "name": "stdout",
     "output_type": "stream",
     "text": [
      "[16, 36]\n"
     ]
    }
   ],
   "source": [
    "sayılar_listesi= [1,3,4,6,5,7]\n",
    "çiftlerinkarelerlist=[]\n",
    "x=0\n",
    "\n",
    "while x < len(sayılar_listesi):\n",
    "    if sayılar_listesi[x]%2==0 :\n",
    "        çiftlerinkarelerlist.append((sayılar_listesi[x]**2))\n",
    "    x+=1\n",
    "print(çiftlerinkarelerlist)"
   ]
  },
  {
   "cell_type": "code",
   "execution_count": 24,
   "metadata": {},
   "outputs": [
    {
     "name": "stdout",
     "output_type": "stream",
     "text": [
      "[16, 36]\n"
     ]
    }
   ],
   "source": [
    "# listenin elemanlarından çift olanların karesini bir liste içinde döndüren while döngüsünü yazın\n",
    "\n",
    "sayılar_listesi = [1, 3, 4, 6, 5, 7]\n",
    "\n",
    "x = 0\n",
    "\n",
    "çiftlerin_kareler_listesi = []\n",
    "\n",
    "while x < len(sayılar_listesi):\n",
    "\n",
    "    if sayılar_listesi[x] % 2 == 0:\n",
    "\n",
    "        çiftlerin_kareler_listesi.append(sayılar_listesi[x] ** 2)\n",
    "\n",
    "    x += 1\n",
    "\n",
    "print(çiftlerin_kareler_listesi)"
   ]
  },
  {
   "cell_type": "markdown",
   "metadata": {},
   "source": [
    "[1,5,6,7,12,14,15,18,19,32,25] listesinin tek elemanlarının karesini, \n",
    "çift elemanlarının 2 katını liste halinde döndüren while döngüsünü yazın"
   ]
  }
 ],
 "metadata": {
  "kernelspec": {
   "display_name": "Python 3",
   "language": "python",
   "name": "python3"
  },
  "language_info": {
   "codemirror_mode": {
    "name": "ipython",
    "version": 3
   },
   "file_extension": ".py",
   "mimetype": "text/x-python",
   "name": "python",
   "nbconvert_exporter": "python",
   "pygments_lexer": "ipython3",
   "version": "3.12.1"
  }
 },
 "nbformat": 4,
 "nbformat_minor": 2
}
