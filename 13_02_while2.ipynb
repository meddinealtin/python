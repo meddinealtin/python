{
 "cells": [
  {
   "cell_type": "code",
   "execution_count": 1,
   "metadata": {},
   "outputs": [
    {
     "name": "stdout",
     "output_type": "stream",
     "text": [
      "bism\n"
     ]
    }
   ],
   "source": [
    "print(\"bism\")"
   ]
  },
  {
   "cell_type": "markdown",
   "metadata": {},
   "source": [
    "## random modülü"
   ]
  },
  {
   "cell_type": "code",
   "execution_count": 2,
   "metadata": {},
   "outputs": [],
   "source": [
    "import random #modülü dosyaya aktrmak için kullanılır"
   ]
  },
  {
   "cell_type": "code",
   "execution_count": 4,
   "metadata": {},
   "outputs": [
    {
     "data": {
      "text/plain": [
       "0.9958873984748948"
      ]
     },
     "execution_count": 4,
     "metadata": {},
     "output_type": "execute_result"
    }
   ],
   "source": [
    "random.random() #noktadan sonra 16 haneli rastgele sayılar oluşur. 0dahil 1 dahil olmayan sayıları üretir"
   ]
  },
  {
   "cell_type": "code",
   "execution_count": 10,
   "metadata": {},
   "outputs": [
    {
     "data": {
      "text/plain": [
       "0.6820045605879779"
      ]
     },
     "execution_count": 10,
     "metadata": {},
     "output_type": "execute_result"
    }
   ],
   "source": [
    "random.seed(37) #belli bir sabite göre aynı değerleri rassal olarak üretit\n",
    "random.random()"
   ]
  },
  {
   "cell_type": "code",
   "execution_count": 21,
   "metadata": {},
   "outputs": [
    {
     "data": {
      "text/plain": [
       "3"
      ]
     },
     "execution_count": 21,
     "metadata": {},
     "output_type": "execute_result"
    }
   ],
   "source": [
    "random.randint(2,5) #her çalışdığın da farklı değerler üretir"
   ]
  },
  {
   "cell_type": "code",
   "execution_count": 23,
   "metadata": {},
   "outputs": [
    {
     "data": {
      "text/plain": [
       "[6, 11, 52, 9, 69]"
      ]
     },
     "execution_count": 23,
     "metadata": {},
     "output_type": "execute_result"
    }
   ],
   "source": [
    "random.sample(range(100),5) #100 (range sayı üretir) taneden 5 tane(sample seçer) seç"
   ]
  },
  {
   "cell_type": "code",
   "execution_count": 24,
   "metadata": {},
   "outputs": [
    {
     "name": "stdout",
     "output_type": "stream",
     "text": [
      "Girdiğiniz sayı : 48. Tahminini azalt\n",
      "Girdiğiniz sayı : 37. Doğru bildiniz. Tebrikler. \n"
     ]
    }
   ],
   "source": [
    "y = True\n",
    "aklımdaki_sayı = random.randint(1,100)\n",
    "while y:\n",
    "    tahmin = int(input(\"1 ile 100 arasında bir sayı tahmin edin.\"))\n",
    "    if aklımdaki_sayı < tahmin:\n",
    "        print(f\"Girdiğiniz sayı : {tahmin}. Tahminini azalt\")\n",
    "    elif aklımdaki_sayı > tahmin:\n",
    "        print(f\"Girdiğiniz sayı : {tahmin}. Tahminini arttır\")\n",
    "    else:\n",
    "        print(f\"Girdiğiniz sayı : {tahmin}. Doğru bildiniz. Tebrikler. \")\n",
    "        y = False"
   ]
  },
  {
   "cell_type": "markdown",
   "metadata": {},
   "source": [
    "## break , continue"
   ]
  },
  {
   "cell_type": "code",
   "execution_count": 26,
   "metadata": {},
   "outputs": [
    {
     "name": "stdout",
     "output_type": "stream",
     "text": [
      "Girdiğiniz sayı : 55. Tahminini arttır\n",
      "Girdiğiniz sayı : 78. Tahminini arttır\n",
      "Girdiğiniz sayı : 83. Doğru bildiniz. Tebrikler. \n"
     ]
    }
   ],
   "source": [
    "\n",
    "aklımdaki_sayı = random.randint(1,100)\n",
    "while True:\n",
    "    tahmin = int(input(\"1 ile 100 arasında bir sayı tahmin edin.\"))\n",
    "    if aklımdaki_sayı < tahmin:\n",
    "        print(f\"Girdiğiniz sayı : {tahmin}. Tahminini azalt\")\n",
    "    elif aklımdaki_sayı > tahmin:\n",
    "        print(f\"Girdiğiniz sayı : {tahmin}. Tahminini arttır\")\n",
    "    else:\n",
    "        print(f\"Girdiğiniz sayı : {tahmin}. Doğru bildiniz. Tebrikler. \")\n",
    "        \n",
    "        break"
   ]
  },
  {
   "cell_type": "code",
   "execution_count": 29,
   "metadata": {},
   "outputs": [
    {
     "name": "stdout",
     "output_type": "stream",
     "text": [
      "Girdiğiniz sayı : 78. Tahminini azalt\n",
      "Girdiğiniz sayı : 52. Tahminini arttır\n",
      "Girdiğiniz sayı : 87. Tahminini azalt\n",
      "Girdiğiniz sayı : 45. Tahminini arttır\n",
      "Girdiğiniz sayı : 67. Tahminini arttır\n",
      "5 deneme hakkın bitti\n"
     ]
    }
   ],
   "source": [
    "aklımdaki_sayı = random.randint(1,100)\n",
    "sayaç=0\n",
    "while True:\n",
    "    tahmin = int(input(\"1 ile 100 arasında bir sayı tahmin edin.\"))\n",
    "    sayaç+=1\n",
    "    if aklımdaki_sayı < tahmin:\n",
    "        print(f\"Girdiğiniz sayı : {tahmin}. Tahminini azalt\")\n",
    "    elif aklımdaki_sayı > tahmin:\n",
    "        print(f\"Girdiğiniz sayı : {tahmin}. Tahminini arttır\")\n",
    "    else:\n",
    "        print(f\"Girdiğiniz sayı : {tahmin}. Doğru bildiniz. Tebrikler. \")\n",
    "        \n",
    "        break\n",
    "    if sayaç==5:\n",
    "        print(\"5 deneme hakkın bitti\")\n",
    "        break"
   ]
  },
  {
   "cell_type": "code",
   "execution_count": 30,
   "metadata": {},
   "outputs": [
    {
     "name": "stdout",
     "output_type": "stream",
     "text": [
      "Girdiğiniz sayı : 44. Tahminini arttır\n",
      "Girdiğiniz sayı : 85. Tahminini azalt\n",
      "Girdiğiniz sayı : 75. Tahminini azalt\n",
      "Girdiğiniz sayı : 67. Tahminini arttır\n",
      "Girdiğiniz sayı : 72. Tahminini arttır\n",
      "5 deneme hakkın bitti73\n"
     ]
    }
   ],
   "source": [
    "aklımdaki_sayı = random.randint(1,100)\n",
    "sayaç=0\n",
    "while True:\n",
    "    tahmin = int(input(\"1 ile 100 arasında bir sayı tahmin edin.\"))\n",
    "    sayaç+=1\n",
    "    if aklımdaki_sayı < tahmin:\n",
    "        print(f\"Girdiğiniz sayı : {tahmin}. Tahminini azalt\")\n",
    "    elif aklımdaki_sayı > tahmin:\n",
    "        print(f\"Girdiğiniz sayı : {tahmin}. Tahminini arttır\")\n",
    "    else:\n",
    "        print(f\"Girdiğiniz sayı : {tahmin}. Doğru bildiniz. Tebrikler. \")\n",
    "        \n",
    "        break\n",
    "    if sayaç==5:\n",
    "        print(f\"5 deneme hakkın bitti {aklımdaki_sayı}\")\n",
    "        break"
   ]
  },
  {
   "cell_type": "code",
   "execution_count": 33,
   "metadata": {},
   "outputs": [
    {
     "name": "stdout",
     "output_type": "stream",
     "text": [
      "Girdiğiniz sayı : 20. Tahminini arttır\n",
      "Girdiğiniz sayı : 35. Tahminini arttır\n",
      "Girdiğiniz sayı : 85. Tahminini azalt\n",
      "Girdiğiniz sayı : 74. Tahminini arttır\n",
      "Girdiğiniz sayı : 79. Tahminini arttır\n",
      "5 deneme hakkın bitti 82\n"
     ]
    }
   ],
   "source": [
    "import time\n",
    "aklımdaki_sayı = random.randint(1,100)\n",
    "time.sleep(2) #kodu nerede bekletmek istersek orada sleep yazılır\n",
    "sayaç=0\n",
    "while True:\n",
    "    tahmin = int(input(\"1 ile 100 arasında bir sayı tahmin edin.\"))\n",
    "    sayaç+=1\n",
    "    time.sleep(2)\n",
    "    if aklımdaki_sayı < tahmin:\n",
    "        print(f\"Girdiğiniz sayı : {tahmin}. Tahminini azalt\")\n",
    "    elif aklımdaki_sayı > tahmin:\n",
    "        print(f\"Girdiğiniz sayı : {tahmin}. Tahminini arttır\")\n",
    "    else:\n",
    "        print(f\"Girdiğiniz sayı : {tahmin}. Doğru bildiniz. Tebrikler. \")\n",
    "      \n",
    "        break\n",
    "    time.sleep(2)  \n",
    "    if sayaç==5:\n",
    "        print(f\"5 deneme hakkın bitti {aklımdaki_sayı}\")\n",
    "        break"
   ]
  },
  {
   "cell_type": "code",
   "execution_count": 34,
   "metadata": {},
   "outputs": [
    {
     "name": "stdout",
     "output_type": "stream",
     "text": [
      "10\n"
     ]
    }
   ],
   "source": [
    "liste=[1,2,3,4,\"Techpro\",5,6,7] #sırayla int değerleri toplayıp dtr e gelince kod sonlansın\n",
    "\n",
    "x=0\n",
    "toplam=0\n",
    "\n",
    "while x < len(liste):\n",
    "    if type(liste[x])==int:\n",
    "        toplam+=liste[x]\n",
    "    elif type(liste[x])==str:\n",
    "        break\n",
    "    x+=1\n",
    "print(toplam)"
   ]
  },
  {
   "cell_type": "code",
   "execution_count": 2,
   "metadata": {},
   "outputs": [
    {
     "name": "stdout",
     "output_type": "stream",
     "text": [
      "28\n"
     ]
    }
   ],
   "source": [
    "liste=[1,2,3,4,\"Techpro\",5,6,7] #sırayla int değerleri toplayıp str e gelince o ifadeyi atlayın ve devam edin\n",
    "\n",
    "x=0\n",
    "toplam=0\n",
    "\n",
    "while x < len(liste):\n",
    "\n",
    "    if type(liste[x])==int:\n",
    "        toplam+=liste[x]\n",
    "\n",
    "    elif type(liste[x])==str:\n",
    "        x+=1\n",
    "        continue #devamındaki kodları görmez yani x+=1 i görmeden while döner\n",
    "    x+=1\n",
    "\n",
    "    \n",
    "print(toplam)"
   ]
  },
  {
   "cell_type": "markdown",
   "metadata": {},
   "source": [
    "## min() max()"
   ]
  },
  {
   "cell_type": "code",
   "execution_count": 6,
   "metadata": {},
   "outputs": [],
   "source": [
    "liste=[2,5,1,3,9,4,6,8,15,48,256]"
   ]
  },
  {
   "cell_type": "code",
   "execution_count": 7,
   "metadata": {},
   "outputs": [
    {
     "data": {
      "text/plain": [
       "1"
      ]
     },
     "execution_count": 7,
     "metadata": {},
     "output_type": "execute_result"
    }
   ],
   "source": [
    "min(liste)"
   ]
  },
  {
   "cell_type": "code",
   "execution_count": 8,
   "metadata": {},
   "outputs": [
    {
     "data": {
      "text/plain": [
       "256"
      ]
     },
     "execution_count": 8,
     "metadata": {},
     "output_type": "execute_result"
    }
   ],
   "source": [
    "max(liste)"
   ]
  },
  {
   "cell_type": "code",
   "execution_count": 9,
   "metadata": {},
   "outputs": [
    {
     "data": {
      "text/plain": [
       "1"
      ]
     },
     "execution_count": 9,
     "metadata": {},
     "output_type": "execute_result"
    }
   ],
   "source": [
    "tuple=(1,2,3,5,8)\n",
    "min(tuple)"
   ]
  },
  {
   "cell_type": "code",
   "execution_count": 10,
   "metadata": {},
   "outputs": [
    {
     "data": {
      "text/plain": [
       "'d'"
      ]
     },
     "execution_count": 10,
     "metadata": {},
     "output_type": "execute_result"
    }
   ],
   "source": [
    "min(\"medine\") #ascii ye göre sıralayark min olanı alır"
   ]
  },
  {
   "cell_type": "code",
   "execution_count": 11,
   "metadata": {},
   "outputs": [
    {
     "ename": "TypeError",
     "evalue": "'>' not supported between instances of 'int' and 'str'",
     "output_type": "error",
     "traceback": [
      "\u001b[1;31m---------------------------------------------------------------------------\u001b[0m",
      "\u001b[1;31mTypeError\u001b[0m                                 Traceback (most recent call last)",
      "Cell \u001b[1;32mIn[11], line 1\u001b[0m\n\u001b[1;32m----> 1\u001b[0m \u001b[38;5;28;43mmax\u001b[39;49m\u001b[43m(\u001b[49m\u001b[38;5;124;43m\"\u001b[39;49m\u001b[38;5;124;43mmedine\u001b[39;49m\u001b[38;5;124;43m\"\u001b[39;49m\u001b[43m,\u001b[49m\u001b[38;5;124;43m\"\u001b[39;49m\u001b[38;5;124;43myusuf\u001b[39;49m\u001b[38;5;124;43m\"\u001b[39;49m\u001b[43m,\u001b[49m\u001b[38;5;241;43m33\u001b[39;49m\u001b[43m)\u001b[49m\n",
      "\u001b[1;31mTypeError\u001b[0m: '>' not supported between instances of 'int' and 'str'"
     ]
    }
   ],
   "source": [
    "max(\"medine\",\"yusuf\",33) #int ve str arasnda sıralama olmaz"
   ]
  },
  {
   "cell_type": "code",
   "execution_count": null,
   "metadata": {},
   "outputs": [],
   "source": [
    "liste_1 = [4,5,6,9,85,23,65,47,32,91] listenin en küçük ve en büyük elemanını min ve max fpnksiyonu kullanmadan bulun. sort fonk da kullanmayın."
   ]
  }
 ],
 "metadata": {
  "kernelspec": {
   "display_name": "Python 3",
   "language": "python",
   "name": "python3"
  },
  "language_info": {
   "codemirror_mode": {
    "name": "ipython",
    "version": 3
   },
   "file_extension": ".py",
   "mimetype": "text/x-python",
   "name": "python",
   "nbconvert_exporter": "python",
   "pygments_lexer": "ipython3",
   "version": "3.12.1"
  }
 },
 "nbformat": 4,
 "nbformat_minor": 2
}
